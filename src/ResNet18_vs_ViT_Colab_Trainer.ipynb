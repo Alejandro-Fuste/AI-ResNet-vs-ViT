{
  "cells": [
    {
      "cell_type": "markdown",
      "metadata": {},
      "source": [
        "# ResNet18 vs ViT-b/16 — Colab Trainer\n",
        "\n",
        "This notebook mounts Google Drive, clones your GitHub repo, installs dependencies,\n",
        "links your **data/** folder from Drive, and runs your shell scripts:\n",
        "\n",
        "- `scripts/run_resnet.sh`\n",
        "- `scripts/run_vit.sh`\n",
        "- (optional) `scripts/eval.sh`\n",
        "\n",
        "All logs and outputs are copied back to Drive."
      ]
    },
    {
      "cell_type": "code",
      "execution_count": null,
      "metadata": {},
      "outputs": [],
      "source": [
        "# Check GPU (optional)\n",
        "!nvidia-smi || echo \"No GPU detected\""
      ]
    },
    {
      "cell_type": "code",
      "execution_count": null,
      "metadata": {},
      "outputs": [],
      "source": [
        "#@title 🔌 Mount Google Drive\n",
        "from google.colab import drive\n",
        "drive.mount('/content/drive', force_remount=True)"
      ]
    },
    {
      "cell_type": "code",
      "execution_count": null,
      "metadata": {},
      "outputs": [],
      "source": [
        "#@title ⚙️ Configuration { run: \"auto\" }\n",
        "#@markdown Fill these and run the cells below.\n",
        "\n",
        "REPO_URL = \"https://github.com/Alejandro-Fuste/AI-ResNet-vs-ViT\" #@param {type:\"string\"}\n",
        "BRANCH = \"main\"                                                #@param {type:\"string\"}\n",
        "PROJECT_NAME = \"AI-RESNET-vs-ViT\"                              #@param {type:\"string\"}\n",
        "DRIVE_DATA = \"/content/drive/MyDrive/UCF/Courses/Fall2025/ComputerVisionSystems/HW_1/data.zip\"                     #@param {type:\"string\"}\n",
        "DRIVE_SAVE = \"/content/drive/MyDrive/ai-resnet-vit-outputs\"    #@param {type:\"string\"}\n",
        "\n",
        "RUN_RESNET = True   #@param {type:\"boolean\"}\n",
        "RUN_VIT    = True   #@param {type:\"boolean\"}\n",
        "ALSO_EVAL  = True   #@param {type:\"boolean\"}"
      ]
    },
    {
      "cell_type": "code",
      "execution_count": null,
      "metadata": {},
      "outputs": [],
      "source": [
        "# 🧬 Clone or update the repo\n",
        "import os, subprocess\n",
        "workdir = \"/content\"\n",
        "repo_dir = os.path.join(workdir, PROJECT_NAME)\n",
        "if os.path.exists(repo_dir):\n",
        "    print(f\"Repo exists at {repo_dir}. Updating…\")\n",
        "    subprocess.run([\"git\",\"fetch\",\"--all\"], cwd=repo_dir, check=True)\n",
        "    subprocess.run([\"git\",\"checkout\", BRANCH], cwd=repo_dir, check=True)\n",
        "    subprocess.run([\"git\",\"pull\",\"--ff-only\"], cwd=repo_dir, check=True)\n",
        "else:\n",
        "    subprocess.run([\"git\",\"clone\",\"-b\", BRANCH, \"--single-branch\", REPO_URL, PROJECT_NAME], cwd=workdir, check=True)\n",
        "print(\"Ready:\", repo_dir)"
      ]
    },
    {
      "cell_type": "code",
      "execution_count": null,
      "metadata": {},
      "outputs": [],
      "source": [
        "# 📦 Install requirements\n",
        "import os, subprocess, sys\n",
        "req = os.path.join(repo_dir, \"requirements.txt\")\n",
        "subprocess.run([sys.executable, \"-m\", \"pip\", \"install\", \"--upgrade\", \"pip\", \"wheel\", \"setuptools\"], check=True)\n",
        "if os.path.exists(req):\n",
        "    subprocess.run([sys.executable, \"-m\", \"pip\", \"install\", \"-r\", req], check=True)\n",
        "else:\n",
        "    print(\"requirements.txt not found:\", req)"
      ]
    },
    {
      "cell_type": "code",
      "execution_count": null,
      "id": "7246a8eb",
      "metadata": {},
      "outputs": [],
      "source": [
        "# 📂 Unzip data.zip from Drive\n",
        "import os, zipfile\n",
        "\n",
        "zip_path = \"/content/drive/MyDrive/UCF/Courses/Fall2025/ComputerVisionSystems/HW_1/data.zip\"   # <-- change this to match where your zip is\n",
        "extract_to = \"/content/drive/MyDrive/data\"     # this will create the 'data/' folder\n",
        "\n",
        "os.makedirs(extract_to, exist_ok=True)\n",
        "with zipfile.ZipFile(zip_path, 'r') as zip_ref:\n",
        "    zip_ref.extractall(extract_to)\n",
        "\n",
        "print(\"Extracted to:\", extract_to)"
      ]
    },
    {
      "cell_type": "code",
      "execution_count": null,
      "metadata": {},
      "outputs": [],
      "source": [
        "# 🔗 Link Drive data into the repo as ./data\n",
        "import os, shutil, time\n",
        "repo_data = os.path.join(repo_dir, \"data\")\n",
        "if os.path.exists(repo_data):\n",
        "    if os.path.islink(repo_data):\n",
        "        os.unlink(repo_data)\n",
        "    else:\n",
        "        backup = repo_data + \"_backup_\" + time.strftime(\"%Y%m%d_%H%M%S\")\n",
        "        print(\"Backing up existing data folder to\", backup)\n",
        "        shutil.move(repo_data, backup)\n",
        "\n",
        "if os.path.exists(DRIVE_DATA):\n",
        "    try:\n",
        "        os.symlink(DRIVE_DATA, repo_data, target_is_directory=True)\n",
        "        print(\"Symlinked\", DRIVE_DATA, \"->\", repo_data)\n",
        "    except Exception as e:\n",
        "        print(\"Symlink failed, copying instead…\", e)\n",
        "        shutil.copytree(DRIVE_DATA, repo_data)\n",
        "else:\n",
        "    raise SystemExit(f\"Drive data path not found: {DRIVE_DATA}\")"
      ]
    },
    {
      "cell_type": "code",
      "execution_count": null,
      "metadata": {},
      "outputs": [],
      "source": [
        "# ✅ Make shell scripts executable\n",
        "import os, stat\n",
        "scripts = os.path.join(repo_dir, \"scripts\")\n",
        "if os.path.isdir(scripts):\n",
        "    for f in os.listdir(scripts):\n",
        "        if f.endswith(\".sh\"):\n",
        "            p = os.path.join(scripts, f)\n",
        "            os.chmod(p, 0o775)\n",
        "            print(\"chmod +x\", p)\n",
        "else:\n",
        "    print(\"No scripts directory found:\", scripts)"
      ]
    },
    {
      "cell_type": "code",
      "execution_count": null,
      "metadata": {},
      "outputs": [],
      "source": [
        "# 🚀 Run training scripts with logging to Drive\n",
        "import os, subprocess, sys, time\n",
        "from pathlib import Path\n",
        "\n",
        "os.makedirs(DRIVE_SAVE, exist_ok=True)\n",
        "timestamp = time.strftime(\"%Y%m%d_%H%M%S\")\n",
        "\n",
        "def tee_log(cmd, log_path, cwd):\n",
        "    Path(os.path.dirname(log_path)).mkdir(parents=True, exist_ok=True)\n",
        "    with open(log_path, \"w\") as f:\n",
        "        print(\"[RUN]\", \" \".join(cmd))\n",
        "        p = subprocess.Popen(cmd, cwd=cwd, stdout=subprocess.PIPE, stderr=subprocess.STDOUT, text=True)\n",
        "        for line in p.stdout:\n",
        "            sys.stdout.write(line)\n",
        "            f.write(line)\n",
        "        p.wait()\n",
        "        if p.returncode != 0:\n",
        "            raise SystemExit(f\"Command failed with exit code {p.returncode}\")\n",
        "\n",
        "if RUN_RESNET:\n",
        "    tee_log([\"bash\",\"scripts/run_resnet.sh\"], os.path.join(DRIVE_SAVE, f\"train_resnet18_{timestamp}.log\"), cwd=repo_dir)\n",
        "\n",
        "if RUN_VIT:\n",
        "    tee_log([\"bash\",\"scripts/run_vit.sh\"], os.path.join(DRIVE_SAVE, f\"train_vit_b16_{timestamp}.log\"), cwd=repo_dir)\n"
      ]
    },
    {
      "cell_type": "code",
      "execution_count": null,
      "id": "0cc5ef3e",
      "metadata": {},
      "outputs": [],
      "source": [
        "# 📊 Run evaluation (eval.sh) separately\n",
        "import os, time\n",
        "\n",
        "timestamp = time.strftime(\"%Y%m%d_%H%M%S\")\n",
        "\n",
        "if os.path.exists(os.path.join(repo_dir, \"scripts\", \"eval.sh\")):\n",
        "    tee_log([\"bash\",\"scripts/eval.sh\"], os.path.join(DRIVE_SAVE, f\"eval_{timestamp}.log\"), cwd=repo_dir)\n",
        "else:\n",
        "    print(\"⚠️ eval.sh not found in scripts/\")\n"
      ]
    },
    {
      "cell_type": "code",
      "execution_count": null,
      "metadata": {},
      "outputs": [],
      "source": [
        "# 💾 Copy repo logs/outputs back into Drive for safekeeping\n",
        "import os, shutil\n",
        "repo_logs = os.path.join(repo_dir, \"logs\")\n",
        "repo_outs = os.path.join(repo_dir, \"outputs\")\n",
        "for src, name in [(repo_logs,\"logs\"), (repo_outs,\"outputs\")]:\n",
        "    if not os.path.exists(src):\n",
        "        print(\"Skip (missing):\", src); continue\n",
        "    dst = os.path.join(DRIVE_SAVE, name)\n",
        "    for root, dirs, files in os.walk(src):\n",
        "        rel = os.path.relpath(root, src)\n",
        "        tgt_root = os.path.join(dst, rel) if rel != \".\" else dst\n",
        "        os.makedirs(tgt_root, exist_ok=True)\n",
        "        for file in files:\n",
        "            s = os.path.join(root, file)\n",
        "            t = os.path.join(tgt_root, file)\n",
        "            try:\n",
        "                shutil.copy2(s, t)\n",
        "            except Exception as e:\n",
        "                print(\"Copy warn:\", s, \"->\", t, e)\n",
        "print(\"Synced to\", DRIVE_SAVE)"
      ]
    },
    {
      "cell_type": "code",
      "execution_count": null,
      "metadata": {},
      "outputs": [],
      "source": [
        "# 🧾 Freeze environment for reproducibility\n",
        "import subprocess, sys, time, os\n",
        "ts = time.strftime(\"%Y%m%d_%H%M%S\")\n",
        "freeze_path = os.path.join(DRIVE_SAVE, f\"pip_freeze_{ts}.txt\")\n",
        "with open(freeze_path, \"w\") as f:\n",
        "    subprocess.run([sys.executable, \"-m\", \"pip\", \"freeze\"], text=True, stdout=f)\n",
        "print(\"Wrote\", freeze_path)"
      ]
    }
  ],
  "metadata": {
    "colab": {
      "name": "ResNet18_vs_ViT_Colab_Trainer.ipynb",
      "provenance": []
    },
    "kernelspec": {
      "display_name": "Python 3",
      "name": "python3"
    }
  },
  "nbformat": 4,
  "nbformat_minor": 5
}
