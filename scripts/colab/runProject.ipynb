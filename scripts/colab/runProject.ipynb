{
  "cells": [
    {
      "cell_type": "markdown",
      "metadata": {},
      "source": [
        "# ResNet18 vs ViT-b/16 \u2014 Colab Trainer\n",
        "\n",
        "This notebook mounts Google Drive, clones your GitHub repo, installs dependencies,\n",
        "links your **data/** folder from Drive, and runs your shell scripts:\n",
        "\n",
        "- `scripts/run_resnet.sh`\n",
        "- `scripts/run_vit.sh`\n",
        "- (optional) `scripts/eval.sh`\n",
        "\n",
        "All logs and outputs are copied back to Drive."
      ]
    },
    {
      "cell_type": "code",
      "execution_count": null,
      "metadata": {},
      "outputs": [],
      "source": [
        "# Check GPU (optional)\n",
        "!nvidia-smi || echo \"No GPU detected\""
      ]
    },
    {
      "cell_type": "code",
      "execution_count": null,
      "metadata": {},
      "outputs": [],
      "source": [
        "#@title \ud83d\udd0c Mount Google Drive\n",
        "from google.colab import drive\n",
        "drive.mount('/content/drive', force_remount=True)"
      ]
    },
    {
      "cell_type": "code",
      "execution_count": null,
      "metadata": {},
      "outputs": [],
      "source": [
        "#@title \u2699\ufe0f Configuration { run: \"auto\" }\n",
        "#@markdown Fill these and run the cells below.\n",
        "\n",
        "REPO_URL = \"https://github.com/Alejandro-Fuste/AI-ResNet-vs-ViT\" #@param {type:\"string\"}\n",
        "BRANCH = \"main\"                                                #@param {type:\"string\"}\n",
        "PROJECT_NAME = \"AI-RESNET-vs-ViT\"                              #@param {type:\"string\"}\n",
        "DRIVE_DATA = \"/content/drive/MyDrive/UCF/Courses/Fall2025/ComputerVisionSystems/HW_1/data.zip\"                     #@param {type:\"string\"}\n",
        "DRIVE_SAVE = \"/content/drive/MyDrive/ai-resnet-vit-outputs\"    #@param {type:\"string\"}\n",
        "\n",
        "RUN_RESNET = True   #@param {type:\"boolean\"}\n",
        "RUN_VIT    = True   #@param {type:\"boolean\"}\n",
        "ALSO_EVAL  = True   #@param {type:\"boolean\"}"
      ]
    },
    {
      "cell_type": "code",
      "execution_count": null,
      "metadata": {},
      "outputs": [],
      "source": [
        "# \ud83e\uddec Clone or update the repo\n",
        "import os, subprocess\n",
        "workdir = \"/content\"\n",
        "repo_dir = os.path.join(workdir, PROJECT_NAME)\n",
        "if os.path.exists(repo_dir):\n",
        "    print(f\"Repo exists at {repo_dir}. Updating\u2026\")\n",
        "    subprocess.run([\"git\",\"fetch\",\"--all\"], cwd=repo_dir, check=True)\n",
        "    subprocess.run([\"git\",\"checkout\", BRANCH], cwd=repo_dir, check=True)\n",
        "    subprocess.run([\"git\",\"pull\",\"--ff-only\"], cwd=repo_dir, check=True)\n",
        "else:\n",
        "    subprocess.run([\"git\",\"clone\",\"-b\", BRANCH, \"--single-branch\", REPO_URL, PROJECT_NAME], cwd=workdir, check=True)\n",
        "print(\"Ready:\", repo_dir)"
      ]
    },
    {
      "cell_type": "code",
      "execution_count": null,
      "metadata": {},
      "outputs": [],
      "source": [
        "# \ud83d\udce6 Install requirements\n",
        "import os, subprocess, sys\n",
        "req = os.path.join(repo_dir, \"requirements.txt\")\n",
        "subprocess.run([sys.executable, \"-m\", \"pip\", \"install\", \"--upgrade\", \"pip\", \"wheel\", \"setuptools\"], check=True)\n",
        "if os.path.exists(req):\n",
        "    subprocess.run([sys.executable, \"-m\", \"pip\", \"install\", \"-r\", req], check=True)\n",
        "else:\n",
        "    print(\"requirements.txt not found:\", req)"
      ]
    },
    {
      "cell_type": "code",
      "execution_count": null,
      "id": "7246a8eb",
      "metadata": {},
      "outputs": [],
      "source": [
        "# \ud83d\udcc2 Unzip data.zip from Drive\n",
        "import os, zipfile\n",
        "\n",
        "zip_path = \"/content/drive/MyDrive/UCF/Courses/Fall2025/ComputerVisionSystems/HW_1/data.zip\"   # <-- change this to match where your zip is\n",
        "extract_to = \"/content/drive/MyDrive/data\"     # this will create the 'data/' folder\n",
        "\n",
        "os.makedirs(extract_to, exist_ok=True)\n",
        "with zipfile.ZipFile(zip_path, 'r') as zip_ref:\n",
        "    zip_ref.extractall(extract_to)\n",
        "\n",
        "print(\"Extracted to:\", extract_to)"
      ]
    },
    {
      "cell_type": "code",
      "execution_count": null,
      "metadata": {},
      "outputs": [],
      "source": [
        "# \ud83d\udd17 Link Drive data into the repo as ./data\n",
        "import os, shutil, time\n",
        "repo_data = os.path.join(repo_dir, \"data\")\n",
        "if os.path.exists(repo_data):\n",
        "    if os.path.islink(repo_data):\n",
        "        os.unlink(repo_data)\n",
        "    else:\n",
        "        backup = repo_data + \"_backup_\" + time.strftime(\"%Y%m%d_%H%M%S\")\n",
        "        print(\"Backing up existing data folder to\", backup)\n",
        "        shutil.move(repo_data, backup)\n",
        "\n",
        "if os.path.exists(DRIVE_DATA):\n",
        "    try:\n",
        "        os.symlink(DRIVE_DATA, repo_data, target_is_directory=True)\n",
        "        print(\"Symlinked\", DRIVE_DATA, \"->\", repo_data)\n",
        "    except Exception as e:\n",
        "        print(\"Symlink failed, copying instead\u2026\", e)\n",
        "        shutil.copytree(DRIVE_DATA, repo_data)\n",
        "else:\n",
        "    raise SystemExit(f\"Drive data path not found: {DRIVE_DATA}\")"
      ]
    },
    {
      "cell_type": "code",
      "execution_count": null,
      "metadata": {},
      "outputs": [],
      "source": [
        "# \u2705 Make shell scripts executable\n",
        "import os, stat\n",
        "scripts = os.path.join(repo_dir, \"scripts\")\n",
        "if os.path.isdir(scripts):\n",
        "    for f in os.listdir(scripts):\n",
        "        if f.endswith(\".sh\"):\n",
        "            p = os.path.join(scripts, f)\n",
        "            os.chmod(p, 0o775)\n",
        "            print(\"chmod +x\", p)\n",
        "else:\n",
        "    print(\"No scripts directory found:\", scripts)"
      ]
    },
    {
      "cell_type": "markdown",
      "metadata": {},
      "source": [
        "## \ud83e\uddf0 Conda setup (Colab) \u2014 install Mambaforge\n",
        "\n",
        "Run this **once per fresh runtime** to install Conda and create the `resnet-vs-vit` environment."
      ]
    },
    {
      "cell_type": "code",
      "execution_count": null,
      "metadata": {},
      "outputs": [],
      "source": [
        "%%bash\n",
        "set -euo pipefail\n",
        "\n",
        "PREFIX=/usr/local\n",
        "if ! command -v conda >/dev/null 2>&1; then\n",
        "  echo \"[INFO] Installing Mambaforge (Conda)\u2026\"\n",
        "  wget -q https://github.com/conda-forge/miniforge/releases/latest/download/Mambaforge-Linux-x86_64.sh -O /tmp/mamba.sh\n",
        "  bash /tmp/mamba.sh -b -p $PREFIX/mambaforge\n",
        "fi\n",
        "\n",
        "# Enable 'conda' in this shell\n",
        "source $PREFIX/mambaforge/etc/profile.d/conda.sh\n",
        "\n",
        "# Create or reuse the env\n",
        "ENV_NAME=resnet-vs-vit\n",
        "if ! conda env list | awk '{print $1}' | grep -Fxq \"$ENV_NAME\"; then\n",
        "  conda create -y -n \"$ENV_NAME\" python=3.10\n",
        "fi\n",
        "\n",
        "# Show environments\n",
        "conda env list"
      ]
    },
    {
      "cell_type": "markdown",
      "metadata": {},
      "source": [
        "## \ud83d\udce6 Install project requirements *into* the Conda env\n",
        "\n",
        "This ensures your training scripts (which activate `resnet-vs-vit`) see the right packages."
      ]
    },
    {
      "cell_type": "code",
      "execution_count": null,
      "metadata": {},
      "outputs": [],
      "source": [
        "import os, subprocess\n",
        "\n",
        "# Use PROJECT_NAME from the config cell\n",
        "repo_dir = os.path.join(\"/content\", PROJECT_NAME)\n",
        "\n",
        "cmd = f'source /usr/local/mambaforge/etc/profile.d/conda.sh && conda activate resnet-vs-vit && pip install --upgrade pip wheel setuptools && pip install -r \"{repo_dir}/requirements.txt\"'\n",
        "print(\"[RUN]\", cmd)\n",
        "subprocess.run([\"bash\",\"-lc\", cmd], check=True)"
      ]
    },
    {
      "cell_type": "markdown",
      "metadata": {},
      "source": [
        "## \ud83d\udee0\ufe0f Patch training scripts to initialize Conda in non-interactive shells\n",
        "\n",
        "This makes `bash scripts/run_resnet.sh` and `bash scripts/run_vit.sh` work inside Colab."
      ]
    },
    {
      "cell_type": "code",
      "execution_count": null,
      "metadata": {},
      "outputs": [],
      "source": [
        "from pathlib import Path\n",
        "import os, stat\n",
        "\n",
        "repo_dir = os.path.join(\"/content\", PROJECT_NAME)\n",
        "scripts_dir = Path(repo_dir) / \"scripts\"\n",
        "scripts_dir.mkdir(parents=True, exist_ok=True)\n",
        "\n",
        "header = r'''#!/usr/bin/env bash\n",
        "set -euo pipefail\n",
        "\n",
        "# Make 'conda activate' work in this non-interactive shell\n",
        "if [ -f \"/usr/local/mambaforge/etc/profile.d/conda.sh\" ]; then\n",
        "  . \"/usr/local/mambaforge/etc/profile.d/conda.sh\"\n",
        "elif [ -f \"/usr/local/etc/profile.d/conda.sh\" ]; then\n",
        "  . \"/usr/local/etc/profile.d/conda.sh\"\n",
        "elif command -v conda >/dev/null 2>&1; then\n",
        "  eval \"$(conda shell.bash hook)\"\n",
        "else\n",
        "  echo \"[ERR] Conda not found. Run the Conda setup cell.\" >&2\n",
        "  exit 127\n",
        "fi\n",
        "\n",
        "conda activate resnet-vs-vit\n",
        "\n",
        "cd \"$(dirname \"$0\")/..\"\n",
        "mkdir -p logs outputs\n",
        "'''\n",
        "\n",
        "resnet_body = r'''\n",
        "python -m src.train \\\n",
        "  --model resnet18 \\\n",
        "  --pretrained 1 \\\n",
        "  --data_root ./data \\\n",
        "  --img_size 224 \\\n",
        "  --batch_size 64 \\\n",
        "  --epochs 25 \\\n",
        "  --optimizer adamw \\\n",
        "  --lr 3e-4 \\\n",
        "  --weight_decay 1e-4 \\\n",
        "  --seed 42 \\\n",
        "  --outdir ./outputs/resnet18 \\\n",
        "  --log_csv ./logs/resnet18_train.csv\n",
        "'''.lstrip()\n",
        "\n",
        "vit_body = r'''\n",
        "python -m src.train \\\n",
        "  --model vit_b_16 \\\n",
        "  --pretrained 1 \\\n",
        "  --data_root ./data \\\n",
        "  --img_size 224 \\\n",
        "  --batch_size 32 \\\n",
        "  --epochs 25 \\\n",
        "  --optimizer adamw \\\n",
        "  --lr 5e-5 \\\n",
        "  --weight_decay 0.01 \\\n",
        "  --seed 42 \\\n",
        "  --outdir ./outputs/vit_b16 \\\n",
        "  --log_csv ./logs/vit_b16_train.csv\n",
        "'''.lstrip()\n",
        "\n",
        "# Write/overwrite scripts\n",
        "(resnet_path := scripts_dir / \"run_resnet.sh\").write_text((header + \"\\n\" + resnet_body).strip() + \"\\n\")\n",
        "(vit_path := scripts_dir / \"run_vit.sh\").write_text((header + \"\\n\" + vit_body).strip() + \"\\n\")\n",
        "\n",
        "# Make them executable\n",
        "os.chmod(resnet_path, 0o775)\n",
        "os.chmod(vit_path, 0o775)\n",
        "\n",
        "print(\"Patched:\", resnet_path)\n",
        "print(\"Patched:\", vit_path)"
      ]
    },
    {
      "cell_type": "code",
      "execution_count": null,
      "metadata": {},
      "outputs": [],
      "source": [
        "# \ud83d\ude80 Run training scripts with logging to Drive\n",
        "import os, subprocess, sys, time\n",
        "from pathlib import Path\n",
        "\n",
        "os.makedirs(DRIVE_SAVE, exist_ok=True)\n",
        "timestamp = time.strftime(\"%Y%m%d_%H%M%S\")\n",
        "\n",
        "def tee_log(cmd, log_path, cwd):\n",
        "    Path(os.path.dirname(log_path)).mkdir(parents=True, exist_ok=True)\n",
        "    with open(log_path, \"w\") as f:\n",
        "        print(\"[RUN]\", \" \".join(cmd))\n",
        "        p = subprocess.Popen(cmd, cwd=cwd, stdout=subprocess.PIPE, stderr=subprocess.STDOUT, text=True)\n",
        "        for line in p.stdout:\n",
        "            sys.stdout.write(line)\n",
        "            f.write(line)\n",
        "        p.wait()\n",
        "        if p.returncode != 0:\n",
        "            raise SystemExit(f\"Command failed with exit code {p.returncode}\")\n",
        "\n",
        "if RUN_RESNET:\n",
        "    tee_log([\"bash\",\"scripts/run_resnet.sh\"], os.path.join(DRIVE_SAVE, f\"train_resnet18_{timestamp}.log\"), cwd=repo_dir)\n",
        "\n",
        "if RUN_VIT:\n",
        "    tee_log([\"bash\",\"scripts/run_vit.sh\"], os.path.join(DRIVE_SAVE, f\"train_vit_b16_{timestamp}.log\"), cwd=repo_dir)\n"
      ]
    },
    {
      "cell_type": "code",
      "execution_count": null,
      "id": "0cc5ef3e",
      "metadata": {},
      "outputs": [],
      "source": [
        "# \ud83d\udcca Run evaluation (eval.sh) separately\n",
        "import os, time\n",
        "\n",
        "timestamp = time.strftime(\"%Y%m%d_%H%M%S\")\n",
        "\n",
        "if os.path.exists(os.path.join(repo_dir, \"scripts\", \"eval.sh\")):\n",
        "    tee_log([\"bash\",\"scripts/eval.sh\"], os.path.join(DRIVE_SAVE, f\"eval_{timestamp}.log\"), cwd=repo_dir)\n",
        "else:\n",
        "    print(\"\u26a0\ufe0f eval.sh not found in scripts/\")\n"
      ]
    },
    {
      "cell_type": "code",
      "execution_count": null,
      "metadata": {},
      "outputs": [],
      "source": [
        "# \ud83d\udcbe Copy repo logs/outputs back into Drive for safekeeping\n",
        "import os, shutil\n",
        "repo_logs = os.path.join(repo_dir, \"logs\")\n",
        "repo_outs = os.path.join(repo_dir, \"outputs\")\n",
        "for src, name in [(repo_logs,\"logs\"), (repo_outs,\"outputs\")]:\n",
        "    if not os.path.exists(src):\n",
        "        print(\"Skip (missing):\", src); continue\n",
        "    dst = os.path.join(DRIVE_SAVE, name)\n",
        "    for root, dirs, files in os.walk(src):\n",
        "        rel = os.path.relpath(root, src)\n",
        "        tgt_root = os.path.join(dst, rel) if rel != \".\" else dst\n",
        "        os.makedirs(tgt_root, exist_ok=True)\n",
        "        for file in files:\n",
        "            s = os.path.join(root, file)\n",
        "            t = os.path.join(tgt_root, file)\n",
        "            try:\n",
        "                shutil.copy2(s, t)\n",
        "            except Exception as e:\n",
        "                print(\"Copy warn:\", s, \"->\", t, e)\n",
        "print(\"Synced to\", DRIVE_SAVE)"
      ]
    },
    {
      "cell_type": "code",
      "execution_count": null,
      "metadata": {},
      "outputs": [],
      "source": [
        "# \ud83e\uddfe Freeze environment for reproducibility\n",
        "import subprocess, sys, time, os\n",
        "ts = time.strftime(\"%Y%m%d_%H%M%S\")\n",
        "freeze_path = os.path.join(DRIVE_SAVE, f\"pip_freeze_{ts}.txt\")\n",
        "with open(freeze_path, \"w\") as f:\n",
        "    subprocess.run([sys.executable, \"-m\", \"pip\", \"freeze\"], text=True, stdout=f)\n",
        "print(\"Wrote\", freeze_path)"
      ]
    }
  ],
  "metadata": {
    "colab": {
      "name": "ResNet18_vs_ViT_Colab_Trainer.ipynb",
      "provenance": []
    },
    "kernelspec": {
      "display_name": "Python 3",
      "name": "python3"
    }
  },
  "nbformat": 4,
  "nbformat_minor": 5
}